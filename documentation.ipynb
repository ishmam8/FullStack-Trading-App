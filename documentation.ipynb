{
 "cells": [
  {
   "cell_type": "markdown",
   "metadata": {},
   "source": [
    "## Full Stack App Commands:"
   ]
  },
  {
   "cell_type": "markdown",
   "metadata": {},
   "source": [
    "*python-binance requires websockets9.1 bt you have 10.0 which is incompatible"
   ]
  },
  {
   "cell_type": "markdown",
   "metadata": {},
   "source": [
    "### Initiate the SQLite Database"
   ]
  },
  {
   "cell_type": "markdown",
   "metadata": {},
   "source": [
    "terminal-> Sqlite3 app.db | script-> create.db.py \n",
    "\n",
    ".schema = list all the tables from terminal sqlite3\n",
    "\n",
    "Query normally"
   ]
  },
  {
   "cell_type": "markdown",
   "metadata": {},
   "source": [
    "### APIs and CronJob\n",
    "\n",
    "Install the alpaca api and connect with key and password\n",
    "\n",
    "#### Use cronjob to update the database periodically\n",
    "Crontab -e ;\n",
    "\n",
    "*python root dir* /Users/ishmamchoudhury/Downloads/Personal/0PROJECTS/FullStack-TradingApp/populate_db.py >> populate.log 2>&1 ;\n",
    "\n",
    "Cat *nameoflogfile* ;\n",
    "\n",
    "Vi *nameoflogfile* ;\n"
   ]
  },
  {
   "cell_type": "markdown",
   "metadata": {},
   "source": [
    "### Initiate the backend"
   ]
  },
  {
   "cell_type": "markdown",
   "metadata": {},
   "source": [
    "python3 -m uvicorn main:app --reload           "
   ]
  }
 ],
 "metadata": {
  "kernelspec": {
   "display_name": "Python 3.9.6 64-bit",
   "language": "python",
   "name": "python3"
  },
  "language_info": {
   "name": "python",
   "version": "3.9.6"
  },
  "orig_nbformat": 4,
  "vscode": {
   "interpreter": {
    "hash": "aee8b7b246df8f9039afb4144a1f6fd8d2ca17a180786b69acc140d282b71a49"
   }
  }
 },
 "nbformat": 4,
 "nbformat_minor": 2
}
